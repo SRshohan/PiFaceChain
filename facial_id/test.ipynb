{
 "cells": [
  {
   "cell_type": "markdown",
   "metadata": {},
   "source": [
    "# Code Cosine Similarity ((A ⋅ B) / (||A|| * ||B||))"
   ]
  },
  {
   "cell_type": "code",
   "execution_count": 4,
   "metadata": {},
   "outputs": [
    {
     "name": "stdout",
     "output_type": "stream",
     "text": [
      "0.588348405414552\n"
     ]
    }
   ],
   "source": [
    "import math\n",
    "def cosine_similarity(a, b):\n",
    "    mag_a = math.sqrt(sum(x ** 2 for x in a))\n",
    "    mag_b = math.sqrt(sum(x ** 2 for x in b))\n",
    "\n",
    "    dot_product = sum(a[i] * b[i] for i in range(len(a)))\n",
    "\n",
    "    return dot_product / (mag_a * mag_b)\n",
    "\n",
    "\n",
    "matrix_A = [\n",
    "    [0, 2, 3],\n",
    "    [0, 5, 0]\n",
    "]\n",
    "\n",
    "matrix_B = [\n",
    "    [1, 0, 1],\n",
    "    [8, 1, 1]\n",
    "]\n",
    "\n",
    "print(cosine_similarity(matrix_A[0], matrix_B[0]))"
   ]
  },
  {
   "cell_type": "code",
   "execution_count": 6,
   "metadata": {
    "vscode": {
     "languageId": "javascript"
    }
   },
   "outputs": [
    {
     "ename": "SyntaxError",
     "evalue": "invalid syntax (783419038.py, line 1)",
     "output_type": "error",
     "traceback": [
      "\u001b[0;36m  Cell \u001b[0;32mIn[6], line 1\u001b[0;36m\u001b[0m\n\u001b[0;31m    const matrix_A = [\u001b[0m\n\u001b[0m          ^\u001b[0m\n\u001b[0;31mSyntaxError\u001b[0m\u001b[0;31m:\u001b[0m invalid syntax\n"
     ]
    }
   ],
   "source": [
    "const matrix_A = [\n",
    "    [0, 2, 3],\n",
    "    [0, 5, 0]\n",
    "];\n",
    "\n",
    "const matrix_B = [\n",
    "    [1, 0, 1],\n",
    "    [8, 1, 1]\n",
    "];\n",
    "\n",
    "function compareFacialEmbeddings(fe1, fe2) {\n",
    "    if (fe1.length !== fe2.length) {\n",
    "        throw new Error('Facial embeddings are of different lengths');\n",
    "    }\n",
    "\n",
    "    let dotproduct = 0;\n",
    "    for (let i = 0; i < fe1.length; i++) {\n",
    "        dotproduct += fe1[i] * fe2[i];\n",
    "    }\n",
    "\n",
    "    let magnitude1 = 0;\n",
    "    for (let i = 0; i < fe1.length; i++) {\n",
    "        magnitude1 += Math.pow(fe1[i], 2);\n",
    "    }\n",
    "    magnitude1 = Math.sqrt(magnitude1);\n",
    "    let magnitude2 = 0;\n",
    "    for (let i = 0; i < fe2.length; i++) {\n",
    "        magnitude2 += Math.pow(fe2[i], 2);\n",
    "    }\n",
    "    magnitude2 = Math.sqrt(magnitude2);\n",
    "    if (magnitude1 === 0 || magnitude2 === 0) {\n",
    "        throw new Error('One of the facial embeddings has zero magnitude');\n",
    "    }\n",
    "    const cosineSimilarity = dotproduct / (magnitude1 * magnitude2);\n",
    "    return cosineSimilarity;\n",
    "    // Implement your facial embedding comparison logic here\n",
    "}\n",
    "\n",
    "const answer = compareFacialEmbeddings(matrix_A, matrix_B);\n",
    "console.log(answer);\n",
    "\n"
   ]
  }
 ],
 "metadata": {
  "kernelspec": {
   "display_name": "mediapipe_env",
   "language": "python",
   "name": "python3"
  },
  "language_info": {
   "codemirror_mode": {
    "name": "ipython",
    "version": 3
   },
   "file_extension": ".py",
   "mimetype": "text/x-python",
   "name": "python",
   "nbconvert_exporter": "python",
   "pygments_lexer": "ipython3",
   "version": "3.10.15"
  }
 },
 "nbformat": 4,
 "nbformat_minor": 2
}
