{
 "cells": [
  {
   "cell_type": "markdown",
   "metadata": {},
   "source": [
    "# Code Cosine Similarity ((A ⋅ B) / (||A|| * ||B||))"
   ]
  },
  {
   "cell_type": "code",
   "execution_count": 7,
   "metadata": {},
   "outputs": [
    {
     "name": "stdout",
     "output_type": "stream",
     "text": [
      "3.605551275463989 1.4142135623730951\n",
      "0.588348405414552\n"
     ]
    }
   ],
   "source": [
    "import math\n",
    "\n",
    "def cosine_similarity(a, b):\n",
    "    mag_a = math.sqrt(sum(x ** 2 for x in a))\n",
    "    mag_b = math.sqrt(sum(x ** 2 for x in b))\n",
    "    print(mag_a, mag_b)\n",
    "\n",
    "    dot_product = sum(a[i] * b[i] for i in range(len(a)))\n",
    "\n",
    "    return dot_product / (mag_a * mag_b)\n",
    "\n",
    "\n",
    "matrix_A = [\n",
    "    [0, 2, 3],\n",
    "    [0, 5, 0]\n",
    "]\n",
    "\n",
    "matrix_B = [\n",
    "    [1, 0, 1],\n",
    "    [8, 1, 1]\n",
    "]\n",
    "\n",
    "print(cosine_similarity(matrix_A[0], matrix_B[0]))"
   ]
  },
  {
   "cell_type": "code",
   "execution_count": 5,
   "metadata": {},
   "outputs": [
    {
     "ename": "TypeError",
     "evalue": "unsupported operand type(s) for ** or pow(): 'list' and 'int'",
     "output_type": "error",
     "traceback": [
      "\u001b[0;31m---------------------------------------------------------------------------\u001b[0m",
      "\u001b[0;31mTypeError\u001b[0m                                 Traceback (most recent call last)",
      "Cell \u001b[0;32mIn[5], line 6\u001b[0m\n\u001b[1;32m      1\u001b[0m matrix_A \u001b[38;5;241m=\u001b[39m [\n\u001b[1;32m      2\u001b[0m     [\u001b[38;5;241m0\u001b[39m, \u001b[38;5;241m2\u001b[39m, \u001b[38;5;241m3\u001b[39m],\n\u001b[1;32m      3\u001b[0m     [\u001b[38;5;241m0\u001b[39m, \u001b[38;5;241m5\u001b[39m, \u001b[38;5;241m0\u001b[39m]\n\u001b[1;32m      4\u001b[0m ]\n\u001b[0;32m----> 6\u001b[0m \u001b[38;5;28mprint\u001b[39m(\u001b[38;5;28msum\u001b[39m(\u001b[43mmatrix_A\u001b[49m\u001b[43m[\u001b[49m\u001b[38;5;241;43m0\u001b[39;49m\u001b[43m]\u001b[49m\u001b[43m \u001b[49m\u001b[38;5;241;43m*\u001b[39;49m\u001b[38;5;241;43m*\u001b[39;49m\u001b[43m \u001b[49m\u001b[38;5;241;43m2\u001b[39;49m))\n",
      "\u001b[0;31mTypeError\u001b[0m: unsupported operand type(s) for ** or pow(): 'list' and 'int'"
     ]
    }
   ],
   "source": [
    "matrix_A = [\n",
    "    [0, 2, 3],\n",
    "    [0, 5, 0]\n",
    "]\n",
    "\n",
    "print(sum(matrix_A[0] ** 2))\n",
    "\n"
   ]
  },
  {
   "cell_type": "code",
   "execution_count": 9,
   "metadata": {
    "vscode": {
     "languageId": "javascript"
    }
   },
   "outputs": [
    {
     "ename": "SyntaxError",
     "evalue": "invalid syntax (3101984147.py, line 1)",
     "output_type": "error",
     "traceback": [
      "\u001b[0;36m  Cell \u001b[0;32mIn[9], line 1\u001b[0;36m\u001b[0m\n\u001b[0;31m    const matrix_A = [\u001b[0m\n\u001b[0m          ^\u001b[0m\n\u001b[0;31mSyntaxError\u001b[0m\u001b[0;31m:\u001b[0m invalid syntax\n"
     ]
    }
   ],
   "source": [
    "const matrix_A = [\n",
    "    [0, 2, 3],\n",
    "    [0, 5, 0]\n",
    "];\n",
    "\n",
    "const matrix_B = [\n",
    "    [1, 0, 1],\n",
    "    [8, 1, 1]\n",
    "];\n",
    "\n",
    "function compareFacialEmbeddings(fe1, fe2) {\n",
    "    if (fe1.length !== fe2.length) {\n",
    "        throw new Error('Facial embeddings are of different lengths');\n",
    "    }\n",
    "\n",
    "    let dotproduct = 0;\n",
    "    for (let i = 0; i < fe1.length; i++) {\n",
    "        dotproduct += fe1[i] * fe2[i];\n",
    "    }\n",
    "\n",
    "    let magnitude1 = 0;\n",
    "    for (let i = 0; i < fe1[0].length; i++) {\n",
    "        magnitude1 += Math.pow(fe1[i], 2);\n",
    "    }\n",
    "    magnitude1 = Math.sqrt(magnitude1);\n",
    "    let magnitude2 = 0;\n",
    "    for (let i = 0; i < fe2[0].length; i++) {\n",
    "        magnitude2 += Math.pow(fe2[i], 2);\n",
    "    }\n",
    "    magnitude2 = Math.sqrt(magnitude2);\n",
    "    if (magnitude1 === 0 || magnitude2 === 0) {\n",
    "        throw new Error('One of the facial embeddings has zero magnitude');\n",
    "    }\n",
    "    const cosineSimilarity = dotproduct / (magnitude1 * magnitude2);\n",
    "    return cosineSimilarity;\n",
    "    // Implement your facial embedding comparison logic here\n",
    "}\n",
    "\n",
    "const answer = compareFacialEmbeddings(matrix_A[0], matrix_B[0]);\n",
    "console.log(answer);\n",
    "\n"
   ]
  },
  {
   "cell_type": "code",
   "execution_count": 16,
   "metadata": {},
   "outputs": [
    {
     "name": "stdout",
     "output_type": "stream",
     "text": [
      "False\n"
     ]
    }
   ],
   "source": [
    "from deepface import DeepFace\n",
    "\n",
    "def biometric(img1_p, img2_p):\n",
    "    result = DeepFace.verify(\n",
    "        img1_path=img1_p,\n",
    "        img2_path=img2_p,\n",
    "    )\n",
    "    print(result[\"verified\"])\n",
    "\n",
    "def facial_embeddings(img1):\n",
    "    import tensorflow as tf\n",
    "    tf.keras.backend.clear_session()\n",
    "    from deepface.modules.verification import __extract_faces_and_embeddings\n",
    "    embedd1 = __extract_faces_and_embeddings(img1)\n",
    "    return embedd1[0][0]\n",
    "\n",
    "img1 = \"face_cropped.jpg\"\n",
    "img2 = \"../image.jpg\"\n",
    "biometric(img1, img2)"
   ]
  },
  {
   "cell_type": "code",
   "execution_count": 4,
   "metadata": {},
   "outputs": [
    {
     "name": "stdout",
     "output_type": "stream",
     "text": [
      "/Users/sohanurrahman/Desktop/College/Capstone_2024/hf/fabric-samples/test-network\n"
     ]
    }
   ],
   "source": [
    "\n",
    "import os\n",
    "path = \"../hf/fabric-samples/test-network/\"\n",
    "\n",
    "current_dir = os.getcwd()\n",
    "\n",
    "network_directory = os.path.abspath(os.path.join(current_dir,\"../hf/fabric-samples/test-network/\"))\n",
    "\n",
    "print(network_directory)\n",
    "\n",
    "\n"
   ]
  },
  {
   "cell_type": "code",
   "execution_count": 7,
   "metadata": {},
   "outputs": [
    {
     "name": "stdout",
     "output_type": "stream",
     "text": [
      "inner\n",
      "test\n",
      "end\n"
     ]
    }
   ],
   "source": [
    "def simple(func):\n",
    "    def inner():\n",
    "        print(\"inner\")\n",
    "        func()\n",
    "        print(\"end\")\n",
    "    return inner\n",
    "@simple\n",
    "def test():\n",
    "    print(\"test\")\n",
    "\n",
    "test()"
   ]
  }
 ],
 "metadata": {
  "kernelspec": {
   "display_name": "mediapipe_env",
   "language": "python",
   "name": "python3"
  },
  "language_info": {
   "codemirror_mode": {
    "name": "ipython",
    "version": 3
   },
   "file_extension": ".py",
   "mimetype": "text/x-python",
   "name": "python",
   "nbconvert_exporter": "python",
   "pygments_lexer": "ipython3",
   "version": "3.10.15"
  }
 },
 "nbformat": 4,
 "nbformat_minor": 2
}
